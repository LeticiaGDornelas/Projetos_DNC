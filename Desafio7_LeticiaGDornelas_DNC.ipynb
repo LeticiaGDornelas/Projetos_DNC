{
  "nbformat": 4,
  "nbformat_minor": 0,
  "metadata": {
    "colab": {
      "provenance": [],
      "authorship_tag": "ABX9TyOPM6rHKzGiy7T3juFJf4I+",
      "include_colab_link": true
    },
    "kernelspec": {
      "name": "python3",
      "display_name": "Python 3"
    },
    "language_info": {
      "name": "python"
    }
  },
  "cells": [
    {
      "cell_type": "markdown",
      "metadata": {
        "id": "view-in-github",
        "colab_type": "text"
      },
      "source": [
        "<a href=\"https://colab.research.google.com/github/LeticiaGDornelas/Projetos_DNC/blob/main/Desafio7_LeticiaGDornelas_DNC.ipynb\" target=\"_parent\"><img src=\"https://colab.research.google.com/assets/colab-badge.svg\" alt=\"Open In Colab\"/></a>"
      ]
    },
    {
      "cell_type": "markdown",
      "source": [
        "# **Desafio 7: Crie um modelo de análise das métricas RFM**\n",
        "\n",
        "**Contexto:** Você foi contratado por uma empresa de e-commerce que está buscando entender melhor o comportamento de seus clientes para personalizar as suas campanhas de marketing. Para isso, a empresa disponibilizou uma base de dados em csv contendo dados sobre clientes, produtos e transações da loja realizadas entre os anos de 2010 e 2011.\n",
        "\n",
        "Com base nesses dados, você precisa agrupar os clientes em clusters com base em seu comportamento de compra. Isso irá permitir identificar padrões e características em comum entre os clientes, como:\n",
        "\n",
        "Clientes que compram os mesmos produtos;\n",
        "Clientes que possuem a mesma frequência de compras;\n",
        "Clientes que gastam mais dinheiro em suas compras.\n",
        "\n",
        "A partir desses clusters, gere insights para que a empresa possa segmentar melhor a sua base de clientes e personalizar as suas campanhas de marketing, direcionando promoções e ofertas aos clientes com base no comportamento de compras"
      ],
      "metadata": {
        "id": "A4E3_c5RXraN"
      }
    },
    {
      "cell_type": "markdown",
      "source": [
        "# **Etapa 01: Análise Exploratória dos Dados**\n",
        "\n",
        "e\n",
        "\n",
        "# **Etapa 02: Pré-processamento dos dados**"
      ],
      "metadata": {
        "id": "eWLk6mr4nWoo"
      }
    },
    {
      "cell_type": "code",
      "source": [
        "import pandas as pd\n",
        "import matplotlib.pyplot as plt\n",
        "import seaborn as sns"
      ],
      "metadata": {
        "id": "jjAZDBF4nY42"
      },
      "execution_count": null,
      "outputs": []
    },
    {
      "cell_type": "code",
      "source": [
        "#Carregando a base de dados\n",
        "df = pd.read_csv('/content/data.csv', encoding='ISO-8859-1')"
      ],
      "metadata": {
        "id": "vyDbLy6YoMaW"
      },
      "execution_count": null,
      "outputs": []
    },
    {
      "cell_type": "code",
      "source": [
        "# Descrição estatística dos dados\n",
        "df.describe()"
      ],
      "metadata": {
        "colab": {
          "base_uri": "https://localhost:8080/",
          "height": 300
        },
        "id": "tAtwsA6XoeRY",
        "outputId": "c0d762ff-ac52-4490-9001-341ef2920bb1"
      },
      "execution_count": null,
      "outputs": [
        {
          "output_type": "execute_result",
          "data": {
            "text/plain": [
              "            Quantity      UnitPrice     CustomerID\n",
              "count  541909.000000  541909.000000  406829.000000\n",
              "mean        9.552250       4.611114   15287.690570\n",
              "std       218.081158      96.759853    1713.600303\n",
              "min    -80995.000000  -11062.060000   12346.000000\n",
              "25%         1.000000       1.250000   13953.000000\n",
              "50%         3.000000       2.080000   15152.000000\n",
              "75%        10.000000       4.130000   16791.000000\n",
              "max     80995.000000   38970.000000   18287.000000"
            ],
            "text/html": [
              "\n",
              "  <div id=\"df-806edda3-7541-4394-941f-32fd53cc1a75\" class=\"colab-df-container\">\n",
              "    <div>\n",
              "<style scoped>\n",
              "    .dataframe tbody tr th:only-of-type {\n",
              "        vertical-align: middle;\n",
              "    }\n",
              "\n",
              "    .dataframe tbody tr th {\n",
              "        vertical-align: top;\n",
              "    }\n",
              "\n",
              "    .dataframe thead th {\n",
              "        text-align: right;\n",
              "    }\n",
              "</style>\n",
              "<table border=\"1\" class=\"dataframe\">\n",
              "  <thead>\n",
              "    <tr style=\"text-align: right;\">\n",
              "      <th></th>\n",
              "      <th>Quantity</th>\n",
              "      <th>UnitPrice</th>\n",
              "      <th>CustomerID</th>\n",
              "    </tr>\n",
              "  </thead>\n",
              "  <tbody>\n",
              "    <tr>\n",
              "      <th>count</th>\n",
              "      <td>541909.000000</td>\n",
              "      <td>541909.000000</td>\n",
              "      <td>406829.000000</td>\n",
              "    </tr>\n",
              "    <tr>\n",
              "      <th>mean</th>\n",
              "      <td>9.552250</td>\n",
              "      <td>4.611114</td>\n",
              "      <td>15287.690570</td>\n",
              "    </tr>\n",
              "    <tr>\n",
              "      <th>std</th>\n",
              "      <td>218.081158</td>\n",
              "      <td>96.759853</td>\n",
              "      <td>1713.600303</td>\n",
              "    </tr>\n",
              "    <tr>\n",
              "      <th>min</th>\n",
              "      <td>-80995.000000</td>\n",
              "      <td>-11062.060000</td>\n",
              "      <td>12346.000000</td>\n",
              "    </tr>\n",
              "    <tr>\n",
              "      <th>25%</th>\n",
              "      <td>1.000000</td>\n",
              "      <td>1.250000</td>\n",
              "      <td>13953.000000</td>\n",
              "    </tr>\n",
              "    <tr>\n",
              "      <th>50%</th>\n",
              "      <td>3.000000</td>\n",
              "      <td>2.080000</td>\n",
              "      <td>15152.000000</td>\n",
              "    </tr>\n",
              "    <tr>\n",
              "      <th>75%</th>\n",
              "      <td>10.000000</td>\n",
              "      <td>4.130000</td>\n",
              "      <td>16791.000000</td>\n",
              "    </tr>\n",
              "    <tr>\n",
              "      <th>max</th>\n",
              "      <td>80995.000000</td>\n",
              "      <td>38970.000000</td>\n",
              "      <td>18287.000000</td>\n",
              "    </tr>\n",
              "  </tbody>\n",
              "</table>\n",
              "</div>\n",
              "    <div class=\"colab-df-buttons\">\n",
              "\n",
              "  <div class=\"colab-df-container\">\n",
              "    <button class=\"colab-df-convert\" onclick=\"convertToInteractive('df-806edda3-7541-4394-941f-32fd53cc1a75')\"\n",
              "            title=\"Convert this dataframe to an interactive table.\"\n",
              "            style=\"display:none;\">\n",
              "\n",
              "  <svg xmlns=\"http://www.w3.org/2000/svg\" height=\"24px\" viewBox=\"0 -960 960 960\">\n",
              "    <path d=\"M120-120v-720h720v720H120Zm60-500h600v-160H180v160Zm220 220h160v-160H400v160Zm0 220h160v-160H400v160ZM180-400h160v-160H180v160Zm440 0h160v-160H620v160ZM180-180h160v-160H180v160Zm440 0h160v-160H620v160Z\"/>\n",
              "  </svg>\n",
              "    </button>\n",
              "\n",
              "  <style>\n",
              "    .colab-df-container {\n",
              "      display:flex;\n",
              "      gap: 12px;\n",
              "    }\n",
              "\n",
              "    .colab-df-convert {\n",
              "      background-color: #E8F0FE;\n",
              "      border: none;\n",
              "      border-radius: 50%;\n",
              "      cursor: pointer;\n",
              "      display: none;\n",
              "      fill: #1967D2;\n",
              "      height: 32px;\n",
              "      padding: 0 0 0 0;\n",
              "      width: 32px;\n",
              "    }\n",
              "\n",
              "    .colab-df-convert:hover {\n",
              "      background-color: #E2EBFA;\n",
              "      box-shadow: 0px 1px 2px rgba(60, 64, 67, 0.3), 0px 1px 3px 1px rgba(60, 64, 67, 0.15);\n",
              "      fill: #174EA6;\n",
              "    }\n",
              "\n",
              "    .colab-df-buttons div {\n",
              "      margin-bottom: 4px;\n",
              "    }\n",
              "\n",
              "    [theme=dark] .colab-df-convert {\n",
              "      background-color: #3B4455;\n",
              "      fill: #D2E3FC;\n",
              "    }\n",
              "\n",
              "    [theme=dark] .colab-df-convert:hover {\n",
              "      background-color: #434B5C;\n",
              "      box-shadow: 0px 1px 3px 1px rgba(0, 0, 0, 0.15);\n",
              "      filter: drop-shadow(0px 1px 2px rgba(0, 0, 0, 0.3));\n",
              "      fill: #FFFFFF;\n",
              "    }\n",
              "  </style>\n",
              "\n",
              "    <script>\n",
              "      const buttonEl =\n",
              "        document.querySelector('#df-806edda3-7541-4394-941f-32fd53cc1a75 button.colab-df-convert');\n",
              "      buttonEl.style.display =\n",
              "        google.colab.kernel.accessAllowed ? 'block' : 'none';\n",
              "\n",
              "      async function convertToInteractive(key) {\n",
              "        const element = document.querySelector('#df-806edda3-7541-4394-941f-32fd53cc1a75');\n",
              "        const dataTable =\n",
              "          await google.colab.kernel.invokeFunction('convertToInteractive',\n",
              "                                                    [key], {});\n",
              "        if (!dataTable) return;\n",
              "\n",
              "        const docLinkHtml = 'Like what you see? Visit the ' +\n",
              "          '<a target=\"_blank\" href=https://colab.research.google.com/notebooks/data_table.ipynb>data table notebook</a>'\n",
              "          + ' to learn more about interactive tables.';\n",
              "        element.innerHTML = '';\n",
              "        dataTable['output_type'] = 'display_data';\n",
              "        await google.colab.output.renderOutput(dataTable, element);\n",
              "        const docLink = document.createElement('div');\n",
              "        docLink.innerHTML = docLinkHtml;\n",
              "        element.appendChild(docLink);\n",
              "      }\n",
              "    </script>\n",
              "  </div>\n",
              "\n",
              "\n",
              "<div id=\"df-c5af7b97-7355-4fd1-a945-540732d74c7e\">\n",
              "  <button class=\"colab-df-quickchart\" onclick=\"quickchart('df-c5af7b97-7355-4fd1-a945-540732d74c7e')\"\n",
              "            title=\"Suggest charts\"\n",
              "            style=\"display:none;\">\n",
              "\n",
              "<svg xmlns=\"http://www.w3.org/2000/svg\" height=\"24px\"viewBox=\"0 0 24 24\"\n",
              "     width=\"24px\">\n",
              "    <g>\n",
              "        <path d=\"M19 3H5c-1.1 0-2 .9-2 2v14c0 1.1.9 2 2 2h14c1.1 0 2-.9 2-2V5c0-1.1-.9-2-2-2zM9 17H7v-7h2v7zm4 0h-2V7h2v10zm4 0h-2v-4h2v4z\"/>\n",
              "    </g>\n",
              "</svg>\n",
              "  </button>\n",
              "\n",
              "<style>\n",
              "  .colab-df-quickchart {\n",
              "      --bg-color: #E8F0FE;\n",
              "      --fill-color: #1967D2;\n",
              "      --hover-bg-color: #E2EBFA;\n",
              "      --hover-fill-color: #174EA6;\n",
              "      --disabled-fill-color: #AAA;\n",
              "      --disabled-bg-color: #DDD;\n",
              "  }\n",
              "\n",
              "  [theme=dark] .colab-df-quickchart {\n",
              "      --bg-color: #3B4455;\n",
              "      --fill-color: #D2E3FC;\n",
              "      --hover-bg-color: #434B5C;\n",
              "      --hover-fill-color: #FFFFFF;\n",
              "      --disabled-bg-color: #3B4455;\n",
              "      --disabled-fill-color: #666;\n",
              "  }\n",
              "\n",
              "  .colab-df-quickchart {\n",
              "    background-color: var(--bg-color);\n",
              "    border: none;\n",
              "    border-radius: 50%;\n",
              "    cursor: pointer;\n",
              "    display: none;\n",
              "    fill: var(--fill-color);\n",
              "    height: 32px;\n",
              "    padding: 0;\n",
              "    width: 32px;\n",
              "  }\n",
              "\n",
              "  .colab-df-quickchart:hover {\n",
              "    background-color: var(--hover-bg-color);\n",
              "    box-shadow: 0 1px 2px rgba(60, 64, 67, 0.3), 0 1px 3px 1px rgba(60, 64, 67, 0.15);\n",
              "    fill: var(--button-hover-fill-color);\n",
              "  }\n",
              "\n",
              "  .colab-df-quickchart-complete:disabled,\n",
              "  .colab-df-quickchart-complete:disabled:hover {\n",
              "    background-color: var(--disabled-bg-color);\n",
              "    fill: var(--disabled-fill-color);\n",
              "    box-shadow: none;\n",
              "  }\n",
              "\n",
              "  .colab-df-spinner {\n",
              "    border: 2px solid var(--fill-color);\n",
              "    border-color: transparent;\n",
              "    border-bottom-color: var(--fill-color);\n",
              "    animation:\n",
              "      spin 1s steps(1) infinite;\n",
              "  }\n",
              "\n",
              "  @keyframes spin {\n",
              "    0% {\n",
              "      border-color: transparent;\n",
              "      border-bottom-color: var(--fill-color);\n",
              "      border-left-color: var(--fill-color);\n",
              "    }\n",
              "    20% {\n",
              "      border-color: transparent;\n",
              "      border-left-color: var(--fill-color);\n",
              "      border-top-color: var(--fill-color);\n",
              "    }\n",
              "    30% {\n",
              "      border-color: transparent;\n",
              "      border-left-color: var(--fill-color);\n",
              "      border-top-color: var(--fill-color);\n",
              "      border-right-color: var(--fill-color);\n",
              "    }\n",
              "    40% {\n",
              "      border-color: transparent;\n",
              "      border-right-color: var(--fill-color);\n",
              "      border-top-color: var(--fill-color);\n",
              "    }\n",
              "    60% {\n",
              "      border-color: transparent;\n",
              "      border-right-color: var(--fill-color);\n",
              "    }\n",
              "    80% {\n",
              "      border-color: transparent;\n",
              "      border-right-color: var(--fill-color);\n",
              "      border-bottom-color: var(--fill-color);\n",
              "    }\n",
              "    90% {\n",
              "      border-color: transparent;\n",
              "      border-bottom-color: var(--fill-color);\n",
              "    }\n",
              "  }\n",
              "</style>\n",
              "\n",
              "  <script>\n",
              "    async function quickchart(key) {\n",
              "      const quickchartButtonEl =\n",
              "        document.querySelector('#' + key + ' button');\n",
              "      quickchartButtonEl.disabled = true;  // To prevent multiple clicks.\n",
              "      quickchartButtonEl.classList.add('colab-df-spinner');\n",
              "      try {\n",
              "        const charts = await google.colab.kernel.invokeFunction(\n",
              "            'suggestCharts', [key], {});\n",
              "      } catch (error) {\n",
              "        console.error('Error during call to suggestCharts:', error);\n",
              "      }\n",
              "      quickchartButtonEl.classList.remove('colab-df-spinner');\n",
              "      quickchartButtonEl.classList.add('colab-df-quickchart-complete');\n",
              "    }\n",
              "    (() => {\n",
              "      let quickchartButtonEl =\n",
              "        document.querySelector('#df-c5af7b97-7355-4fd1-a945-540732d74c7e button');\n",
              "      quickchartButtonEl.style.display =\n",
              "        google.colab.kernel.accessAllowed ? 'block' : 'none';\n",
              "    })();\n",
              "  </script>\n",
              "</div>\n",
              "\n",
              "    </div>\n",
              "  </div>\n"
            ],
            "application/vnd.google.colaboratory.intrinsic+json": {
              "type": "dataframe",
              "summary": "{\n  \"name\": \"df\",\n  \"rows\": 8,\n  \"fields\": [\n    {\n      \"column\": \"Quantity\",\n      \"properties\": {\n        \"dtype\": \"number\",\n        \"std\": 196412.42266088672,\n        \"min\": -80995.0,\n        \"max\": 541909.0,\n        \"num_unique_values\": 8,\n        \"samples\": [\n          9.55224954743324,\n          3.0,\n          541909.0\n        ],\n        \"semantic_type\": \"\",\n        \"description\": \"\"\n      }\n    },\n    {\n      \"column\": \"UnitPrice\",\n      \"properties\": {\n        \"dtype\": \"number\",\n        \"std\": 190752.07570771928,\n        \"min\": -11062.06,\n        \"max\": 541909.0,\n        \"num_unique_values\": 8,\n        \"samples\": [\n          4.611113626088513,\n          2.08,\n          541909.0\n        ],\n        \"semantic_type\": \"\",\n        \"description\": \"\"\n      }\n    },\n    {\n      \"column\": \"CustomerID\",\n      \"properties\": {\n        \"dtype\": \"number\",\n        \"std\": 139204.16800694188,\n        \"min\": 1713.6003033216632,\n        \"max\": 406829.0,\n        \"num_unique_values\": 8,\n        \"samples\": [\n          15287.690570239585,\n          15152.0,\n          406829.0\n        ],\n        \"semantic_type\": \"\",\n        \"description\": \"\"\n      }\n    }\n  ]\n}"
            }
          },
          "metadata": {},
          "execution_count": 48
        }
      ]
    },
    {
      "cell_type": "code",
      "source": [
        "# Convertendo a coluna 'CustomerID' de float para string\n",
        "df['CustomerID'] = df['CustomerID'].astype(str)"
      ],
      "metadata": {
        "id": "ZFMa879v5_dO"
      },
      "execution_count": null,
      "outputs": []
    },
    {
      "cell_type": "code",
      "source": [
        "# Convertendo a coluna 'InvoiceDate' de object para datetime\n",
        "df['InvoiceDate'] = pd.to_datetime(df['InvoiceDate'], errors='coerce')"
      ],
      "metadata": {
        "id": "S6TdqXRI6IUT"
      },
      "execution_count": null,
      "outputs": []
    },
    {
      "cell_type": "code",
      "source": [
        "print(df.dtypes)"
      ],
      "metadata": {
        "colab": {
          "base_uri": "https://localhost:8080/"
        },
        "id": "7a8HiZLj6ON7",
        "outputId": "66a8ddbe-3e3c-471b-e11e-f6f70251a2da"
      },
      "execution_count": null,
      "outputs": [
        {
          "output_type": "stream",
          "name": "stdout",
          "text": [
            "InvoiceNo              object\n",
            "StockCode              object\n",
            "Description            object\n",
            "Quantity                int64\n",
            "InvoiceDate    datetime64[ns]\n",
            "UnitPrice             float64\n",
            "CustomerID             object\n",
            "Country                object\n",
            "dtype: object\n"
          ]
        }
      ]
    },
    {
      "cell_type": "code",
      "source": [
        "# Configurando o estilo do Seaborn\n",
        "sns.set(style=\"whitegrid\")"
      ],
      "metadata": {
        "id": "U0ifo6lCosma"
      },
      "execution_count": null,
      "outputs": []
    },
    {
      "cell_type": "code",
      "source": [
        "# Histogramas para variáveis numéricas\n",
        "df.hist(bins=30, figsize=(15, 10))\n",
        "plt.tight_layout()\n",
        "plt.show()"
      ],
      "metadata": {
        "colab": {
          "base_uri": "https://localhost:8080/",
          "height": 840
        },
        "id": "gxjB8EGHpF7P",
        "outputId": "ae6d1e14-872f-4451-d43b-304a99ef7a25"
      },
      "execution_count": null,
      "outputs": [
        {
          "output_type": "display_data",
          "data": {
            "text/plain": [
              "<Figure size 1500x1000 with 4 Axes>"
            ],
            "image/png": "[encoded data removed]"
          },
          "metadata": {}
        }
      ]
    },
    {
      "cell_type": "code",
      "source": [
        "# Boxplot para identificar outliers\n",
        "plt.figure(figsize=(15, 8))\n",
        "sns.boxplot(data=df)\n",
        "plt.xticks(rotation=360)\n",
        "plt.show()"
      ],
      "metadata": {
        "colab": {
          "base_uri": "https://localhost:8080/",
          "height": 832
        },
        "id": "HP8t3tiOplS3",
        "outputId": "365c373e-bce2-439f-92c6-3ac6c4ebb168"
      },
      "execution_count": null,
      "outputs": [
        {
          "output_type": "stream",
          "name": "stderr",
          "text": [
            "/usr/local/lib/python3.10/dist-packages/seaborn/_base.py:949: FutureWarning: When grouping with a length-1 list-like, you will need to pass a length-1 tuple to get_group in a future version of pandas. Pass `(name,)` instead of `name` to silence this warning.\n",
            "  data_subset = grouped_data.get_group(pd_key)\n",
            "/usr/local/lib/python3.10/dist-packages/seaborn/categorical.py:640: FutureWarning: SeriesGroupBy.grouper is deprecated and will be removed in a future version of pandas.\n",
            "  positions = grouped.grouper.result_index.to_numpy(dtype=float)\n",
            "/usr/local/lib/python3.10/dist-packages/seaborn/_base.py:949: FutureWarning: When grouping with a length-1 list-like, you will need to pass a length-1 tuple to get_group in a future version of pandas. Pass `(name,)` instead of `name` to silence this warning.\n",
            "  data_subset = grouped_data.get_group(pd_key)\n",
            "/usr/local/lib/python3.10/dist-packages/seaborn/categorical.py:640: FutureWarning: SeriesGroupBy.grouper is deprecated and will be removed in a future version of pandas.\n",
            "  positions = grouped.grouper.result_index.to_numpy(dtype=float)\n"
          ]
        },
        {
          "output_type": "display_data",
          "data": {
            "text/plain": [
              "<Figure size 1500x800 with 1 Axes>"
            ],
            "image/png": "[encoded data removed]"
          },
          "metadata": {}
        }
      ]
    },
    {
      "cell_type": "code",
      "source": [
        "# Verificando dados nulos\n",
        "null_values = df.isnull().sum()\n",
        "print(\"Valores nulos por coluna:\\n\", null_values)"
      ],
      "metadata": {
        "colab": {
          "base_uri": "https://localhost:8080/"
        },
        "id": "yxqtFlW3p4PJ",
        "outputId": "08209727-1812-4ae6-9b2b-4aa0d4700e05"
      },
      "execution_count": null,
      "outputs": [
        {
          "output_type": "stream",
          "name": "stdout",
          "text": [
            "Valores nulos por coluna:\n",
            " InvoiceNo         0\n",
            "StockCode         0\n",
            "Description    1454\n",
            "Quantity          0\n",
            "InvoiceDate       0\n",
            "UnitPrice         0\n",
            "CustomerID        0\n",
            "Country           0\n",
            "dtype: int64\n"
          ]
        }
      ]
    },
    {
      "cell_type": "code",
      "source": [
        "# Verificando dados duplicados\n",
        "duplicates = df.duplicated().sum()\n",
        "print(\"Número de registros duplicados:\", duplicates)"
      ],
      "metadata": {
        "colab": {
          "base_uri": "https://localhost:8080/"
        },
        "id": "hN-7P8p-qHU6",
        "outputId": "af539f1a-400a-4bff-84e5-cbc4055dde71"
      },
      "execution_count": null,
      "outputs": [
        {
          "output_type": "stream",
          "name": "stdout",
          "text": [
            "Número de registros duplicados: 5268\n"
          ]
        }
      ]
    },
    {
      "cell_type": "code",
      "source": [
        "# Calcular IQR para Quantity\n",
        "Q1_quantity = df['Quantity'].quantile(0.25)\n",
        "Q3_quantity = df['Quantity'].quantile(0.75)\n",
        "IQR_quantity = Q3_quantity - Q1_quantity"
      ],
      "metadata": {
        "id": "n1x7FiastXpa"
      },
      "execution_count": null,
      "outputs": []
    },
    {
      "cell_type": "code",
      "source": [
        "# Identificar outliers em Quantity\n",
        "outliers_quantity = df[(df['Quantity'] < (Q1_quantity - 1.5 * IQR_quantity)) |\n",
        "                        (df['Quantity'] > (Q3_quantity + 1.5 * IQR_quantity))]"
      ],
      "metadata": {
        "id": "JqFL5Z8ruY42"
      },
      "execution_count": null,
      "outputs": []
    },
    {
      "cell_type": "code",
      "source": [
        "# Calcular IQR para UnitPrice\n",
        "Q1_unitprice = df['UnitPrice'].quantile(0.25)\n",
        "Q3_unitprice = df['UnitPrice'].quantile(0.75)\n",
        "IQR_unitprice = Q3_unitprice - Q1_unitprice"
      ],
      "metadata": {
        "id": "IS3OMQZ6xP5-"
      },
      "execution_count": null,
      "outputs": []
    },
    {
      "cell_type": "code",
      "source": [
        "# Identificar outliers em UnitPrice\n",
        "outliers_unitprice = df[(df['UnitPrice'] < (Q1_unitprice - 1.5 * IQR_unitprice)) |\n",
        "                         (df['UnitPrice'] > (Q3_unitprice + 1.5 * IQR_unitprice))]"
      ],
      "metadata": {
        "id": "t2wIaSHCxQ7m"
      },
      "execution_count": null,
      "outputs": []
    },
    {
      "cell_type": "code",
      "source": [
        "# Exibir resultados\n",
        "print(\"Outliers em Quantity:\\n\", outliers_quantity)\n",
        "print(\"Outliers em UnitPrice:\\n\", outliers_unitprice)"
      ],
      "metadata": {
        "colab": {
          "base_uri": "https://localhost:8080/"
        },
        "id": "7fxVmKfuxVEa",
        "outputId": "228d3f2d-0039-4ff0-dc6a-01fa410e02da"
      },
      "execution_count": null,
      "outputs": [
        {
          "output_type": "stream",
          "name": "stdout",
          "text": [
            "Outliers em Quantity:\n",
            "        InvoiceNo StockCode                         Description  Quantity  \\\n",
            "9         536367     84879       ASSORTED COLOUR BIRD ORNAMENT        32   \n",
            "26        536370     22728           ALARM CLOCK BAKELIKE PINK        24   \n",
            "27        536370     22727           ALARM CLOCK BAKELIKE RED         24   \n",
            "30        536370     21883                    STARS GIFT TAPE         24   \n",
            "31        536370     10002         INFLATABLE POLITICAL GLOBE         48   \n",
            "...          ...       ...                                 ...       ...   \n",
            "541876    581585     84945  MULTI COLOUR SILVER T-LIGHT HOLDER        24   \n",
            "541882    581585     21916     SET 12 RETRO WHITE CHALK STICKS        24   \n",
            "541883    581585     84692         BOX OF 24 COCKTAIL PARASOLS        25   \n",
            "541891    581586     23275    SET OF 3 HANGING OWLS OLLIE BEAK        24   \n",
            "541892    581586     21217       RED RETROSPOT ROUND CAKE TINS        24   \n",
            "\n",
            "               InvoiceDate  UnitPrice CustomerID         Country  \n",
            "9      2010-12-01 08:34:00       1.69    13047.0  United Kingdom  \n",
            "26     2010-12-01 08:45:00       3.75    12583.0          France  \n",
            "27     2010-12-01 08:45:00       3.75    12583.0          France  \n",
            "30     2010-12-01 08:45:00       0.65    12583.0          France  \n",
            "31     2010-12-01 08:45:00       0.85    12583.0          France  \n",
            "...                    ...        ...        ...             ...  \n",
            "541876 2011-12-09 12:31:00       0.85    15804.0  United Kingdom  \n",
            "541882 2011-12-09 12:31:00       0.42    15804.0  United Kingdom  \n",
            "541883 2011-12-09 12:31:00       0.42    15804.0  United Kingdom  \n",
            "541891 2011-12-09 12:49:00       1.25    13113.0  United Kingdom  \n",
            "541892 2011-12-09 12:49:00       8.95    13113.0  United Kingdom  \n",
            "\n",
            "[58619 rows x 8 columns]\n",
            "Outliers em UnitPrice:\n",
            "        InvoiceNo StockCode                      Description  Quantity  \\\n",
            "16        536367     22622   BOX OF VINTAGE ALPHABET BLOCKS         2   \n",
            "45        536370      POST                          POSTAGE         3   \n",
            "65        536374     21258       VICTORIAN SEWING BOX LARGE        32   \n",
            "141      C536379         D                         Discount        -1   \n",
            "151       536382     22839  3 TIER CAKE TIN GREEN AND CREAM         2   \n",
            "...          ...       ...                              ...       ...   \n",
            "541768    581578      POST                          POSTAGE         3   \n",
            "541786    581578     22622   BOX OF VINTAGE ALPHABET BLOCKS         6   \n",
            "541831    581579     22941     CHRISTMAS LIGHTS 10 REINDEER         4   \n",
            "541849    581580     22894    TABLECLOTH RED APPLES DESIGN          2   \n",
            "541892    581586     21217    RED RETROSPOT ROUND CAKE TINS        24   \n",
            "\n",
            "               InvoiceDate  UnitPrice CustomerID         Country  \n",
            "16     2010-12-01 08:34:00       9.95    13047.0  United Kingdom  \n",
            "45     2010-12-01 08:45:00      18.00    12583.0          France  \n",
            "65     2010-12-01 09:09:00      10.95    15100.0  United Kingdom  \n",
            "141    2010-12-01 09:41:00      27.50    14527.0  United Kingdom  \n",
            "151    2010-12-01 09:45:00      14.95    16098.0  United Kingdom  \n",
            "...                    ...        ...        ...             ...  \n",
            "541768 2011-12-09 12:16:00      18.00    12713.0         Germany  \n",
            "541786 2011-12-09 12:16:00      11.95    12713.0         Germany  \n",
            "541831 2011-12-09 12:19:00       8.50    17581.0  United Kingdom  \n",
            "541849 2011-12-09 12:20:00       9.95    12748.0  United Kingdom  \n",
            "541892 2011-12-09 12:49:00       8.95    13113.0  United Kingdom  \n",
            "\n",
            "[39627 rows x 8 columns]\n"
          ]
        }
      ]
    },
    {
      "cell_type": "markdown",
      "source": [
        "**Resultados da Descrição Estatística**\n",
        "\n",
        "A descrição estatística das variáveis numéricas da base de dados revelou insights importantes. A média da coluna Quantity foi de aproximadamente 9,55, com um desvio padrão elevado de 218,08, indicando que, em média, os clientes compram cerca de 9,55 itens por transação, embora haja uma ampla variação nos volumes de compra, refletida pelos valores mínimo e máximo de -80.995 e 80.995, respectivamente. O preço unitário (UnitPrice) apresentou uma média de 4,61 e um desvio padrão de 96,76, sugerindo uma diversidade significativa nos preços dos produtos. Os valores extremos indicam a presença de compras de grande volume ou de produtos com preços fora da faixa usual, com preços unitários variando de -11.062,06 a 38.970.\n",
        "\n"
      ],
      "metadata": {
        "id": "EqzwTXAr5XNq"
      }
    },
    {
      "cell_type": "markdown",
      "source": [
        "**Distribuições**\n",
        "\n",
        "As distribuições observadas para as variáveis Quantity e UnitPrice foram analisadas através de histogramas e boxplots. O histograma da Quantity revela uma distribuição assimétrica, com uma concentração significativa de transações em torno de valores baixos, enquanto há um grande número de outliers em ambas as extremidades, com valores extremos que atingem até 80.995. A presença de valores negativos indica possíveis erros de entrada ou devoluções. Por outro lado, a distribuição do UnitPrice também mostra uma concentração em torno de preços baixos, com outliers positivos que alcançam 38.970, sugerindo a existência de produtos com preços muito acima da média. Os boxplots corroboram a presença de outliers em ambas as variáveis, evidenciando a necessidade de um tratamento cuidadoso desses valores, pois podem distorcer as análises subsequentes e a formação de clusters."
      ],
      "metadata": {
        "id": "WljeaNQb7EoT"
      }
    },
    {
      "cell_type": "markdown",
      "source": [
        "**Dados Nulos e Duplicados**\n",
        "\n",
        "A análise dos dados revelou que a coluna Description contém 1.454 valores nulos, o que pode impactar a interpretação das compras, já que a falta de descrições pode dificultar a análise dos produtos vendidos. As demais colunas não apresentam valores nulos, indicando uma boa qualidade dos dados nesse aspecto. Além disso, a presença de 5.268 registros duplicados na base de dados é uma preocupação, pois esses duplicados podem distorcer a análise, levando a resultados enganosos sobre o volume total de vendas e a frequência de compras. Recomenda-se tratar esses registros duplicados antes de prosseguir com análises mais profundas, como a clusterização."
      ],
      "metadata": {
        "id": "w_OulyDg7tui"
      }
    },
    {
      "cell_type": "markdown",
      "source": [
        "**Outliers e Inconsistências**\n",
        "\n",
        "A análise de outliers revelou que, na coluna Quantity, foram identificados 58.619 registros que apresentam valores atípicos, incluindo quantidades como 32 e 24, que são significativamente maiores do que a média, sugerindo compras incomuns ou em grandes volumes. Isso pode indicar a presença de promoções ou erros de entrada de dados. Para a coluna UnitPrice, foram identificados 39.627 registros com outliers, incluindo preços como 27,50 e 18,00, que estão bem acima da faixa normal de preços unitários."
      ],
      "metadata": {
        "id": "cxMeAYqQ8ooi"
      }
    },
    {
      "cell_type": "markdown",
      "source": [
        "# **Etapa 03: Selecione um algoritmo de clusterização**"
      ],
      "metadata": {
        "id": "TVIozbuFMFhx"
      }
    },
    {
      "cell_type": "code",
      "source": [
        "# Importando a base de dados das métricas RFM\n",
        "rfm = pd.read_csv('/content/final_rfm_metrics.csv')"
      ],
      "metadata": {
        "id": "rit4ihowLkkO"
      },
      "execution_count": null,
      "outputs": []
    },
    {
      "cell_type": "code",
      "source": [
        "from sklearn.preprocessing import StandardScaler\n",
        "\n",
        "# Padronizando as métricas RFM\n",
        "scaler = StandardScaler()\n",
        "rfm_scaled = scaler.fit_transform(rfm[['Recency', 'Frequency', 'Monetary']])"
      ],
      "metadata": {
        "id": "olQPtY_VMZYW"
      },
      "execution_count": null,
      "outputs": []
    },
    {
      "cell_type": "markdown",
      "source": [
        "**Algoritimo de clausterirzação escolhido: K-Means**"
      ],
      "metadata": {
        "id": "qxiW5mnbM3dr"
      }
    },
    {
      "cell_type": "markdown",
      "source": [
        "Justificativa: A escolha do algoritmo K-Means para a clusterização foi baseada na sua eficácia em lidar com grandes conjuntos de dados, sua simplicidade na implementação e sua capacidade de identificar clusters esféricos de forma rápida, permitindo uma segmentação clara dos clientes em grupos distintos com base em suas características de compra."
      ],
      "metadata": {
        "id": "6Zz5DLXYYTqO"
      }
    },
    {
      "cell_type": "code",
      "source": [
        "import matplotlib.pyplot as plt\n",
        "from sklearn.cluster import KMeans\n",
        "\n",
        "# Método do Elbow\n",
        "inertia = []\n",
        "K = range(1, 11)  # Testar de 1 a 10 clusters\n",
        "\n",
        "for k in K:\n",
        "    kmeans = KMeans(n_clusters=k, random_state=42)\n",
        "    kmeans.fit(rfm_scaled)\n",
        "    inertia.append(kmeans.inertia_)\n",
        "\n",
        "plt.plot(K, inertia, 'bx-')\n",
        "plt.xlabel('Número de Clusters')\n",
        "plt.ylabel('Inércia')\n",
        "plt.title('Método do Elbow')\n",
        "plt.show()"
      ],
      "metadata": {
        "colab": {
          "base_uri": "https://localhost:8080/",
          "height": 480
        },
        "id": "UY9T9rgeM_cJ",
        "outputId": "5d00dc80-5f8a-4f6a-e1fd-3c6f8d7dd9f9"
      },
      "execution_count": null,
      "outputs": [
        {
          "output_type": "display_data",
          "data": {
            "text/plain": [
              "<Figure size 640x480 with 1 Axes>"
            ],
            "image/png": "[encoded data removed]"
          },
          "metadata": {}
        }
      ]
    },
    {
      "cell_type": "code",
      "source": [
        "# Implementação do K-Means com a quantidade ideal de clusters\n",
        "optimal_k = 5\n",
        "kmeans = KMeans(n_clusters=optimal_k, random_state=42)\n",
        "clusters = kmeans.fit_predict(rfm_scaled)\n",
        "\n",
        "# Adicionando os clusters ao DataFrame original\n",
        "rfm['Cluster'] = clusters"
      ],
      "metadata": {
        "id": "aoicVD8OPhqX"
      },
      "execution_count": null,
      "outputs": []
    },
    {
      "cell_type": "markdown",
      "source": [
        "# **Etapa 04: Análise dos clusters obtidos**"
      ],
      "metadata": {
        "id": "szP9gj0FQ1Ep"
      }
    },
    {
      "cell_type": "code",
      "source": [
        "# Para garantir que os gráficos apareçam no notebook\n",
        "%matplotlib inline"
      ],
      "metadata": {
        "id": "85FqFOzgRnRS"
      },
      "execution_count": null,
      "outputs": []
    },
    {
      "cell_type": "code",
      "source": [
        "# Calcular médias por cluster\n",
        "cluster_analysis = rfm.groupby('Cluster').agg({\n",
        "    'Recency': 'mean',\n",
        "    'Frequency': 'mean',\n",
        "    'Monetary': 'mean',\n",
        "    'CustomerID': 'count'  # Contar o número de clientes em cada cluster\n",
        "}).reset_index()"
      ],
      "metadata": {
        "id": "DbiNxxXoQ2M1"
      },
      "execution_count": null,
      "outputs": []
    },
    {
      "cell_type": "code",
      "source": [
        "# Renomear colunas para clareza\n",
        "cluster_analysis.columns = ['Cluster', 'Média Recência', 'Média Frequência', 'Média Gasto', 'Número de Clientes']"
      ],
      "metadata": {
        "id": "3ObSbNfsRJfH"
      },
      "execution_count": null,
      "outputs": []
    },
    {
      "cell_type": "code",
      "source": [
        "print(cluster_analysis)"
      ],
      "metadata": {
        "colab": {
          "base_uri": "https://localhost:8080/"
        },
        "id": "DUl5uhZbRNGn",
        "outputId": "156fafa4-4129-421d-8c4a-10ca6b3e7666"
      },
      "execution_count": null,
      "outputs": [
        {
          "output_type": "stream",
          "name": "stdout",
          "text": [
            "   Cluster  Média Recência  Média Frequência  Média Gasto  Número de Clientes\n",
            "0        0       62.476861          1.241449   299.595556                 497\n",
            "1        1        8.983471          5.561983   411.885316                 121\n",
            "2        2       16.625000         23.875000   481.243980                   8\n",
            "3        3       21.636364          3.181818  5350.458519                  11\n",
            "4        4       17.836761          1.550129   369.540932                 778\n"
          ]
        }
      ]
    },
    {
      "cell_type": "code",
      "source": [
        "# Plote gráficos para auxiliar na análise\n",
        "plt.figure(figsize=(12, 6))"
      ],
      "metadata": {
        "colab": {
          "base_uri": "https://localhost:8080/",
          "height": 52
        },
        "id": "V_GWyfYIRTAf",
        "outputId": "846c4112-4e78-4f05-f4d4-542f6af8a591"
      },
      "execution_count": null,
      "outputs": [
        {
          "output_type": "execute_result",
          "data": {
            "text/plain": [
              "<Figure size 1200x600 with 0 Axes>"
            ]
          },
          "metadata": {},
          "execution_count": 25
        },
        {
          "output_type": "display_data",
          "data": {
            "text/plain": [
              "<Figure size 1200x600 with 0 Axes>"
            ]
          },
          "metadata": {}
        }
      ]
    },
    {
      "cell_type": "code",
      "source": [
        "# Gráfico da média de frequência por cluster\n",
        "plt.subplot(1, 3, 1)\n",
        "sns.barplot(data=cluster_analysis, x='Cluster', y='Média Frequência')\n",
        "plt.title('Média de Frequência de Compras por Cluster')\n",
        "plt.xlabel('Cluster')\n",
        "plt.ylabel('Média Frequência')\n",
        "plt.tight_layout()\n",
        "plt.show()"
      ],
      "metadata": {
        "colab": {
          "base_uri": "https://localhost:8080/",
          "height": 481
        },
        "id": "5Fhm9fbnRykh",
        "outputId": "7540abba-ce94-43aa-a95d-707ea08d8c0f"
      },
      "execution_count": null,
      "outputs": [
        {
          "output_type": "display_data",
          "data": {
            "text/plain": [
              "<Figure size 640x480 with 1 Axes>"
            ],
            "image/png": "[encoded data removed]"
          },
          "metadata": {}
        }
      ]
    },
    {
      "cell_type": "code",
      "source": [
        "# Gráfico da média de gasto por cluster\n",
        "plt.subplot(1, 3, 2)\n",
        "sns.barplot(data=cluster_analysis, x='Cluster', y='Média Gasto')\n",
        "plt.title('Média de Gasto por Cluster')\n",
        "plt.xlabel('Cluster')\n",
        "plt.ylabel('Média Gasto')\n",
        "plt.tight_layout()\n",
        "plt.show()"
      ],
      "metadata": {
        "colab": {
          "base_uri": "https://localhost:8080/",
          "height": 481
        },
        "id": "tyOZNpRxR1Ji",
        "outputId": "4e6787d4-3c63-4932-d4c9-91ef6ddc8674"
      },
      "execution_count": null,
      "outputs": [
        {
          "output_type": "display_data",
          "data": {
            "text/plain": [
              "<Figure size 640x480 with 1 Axes>"
            ],
            "image/png": "[encoded data removed]"
          },
          "metadata": {}
        }
      ]
    },
    {
      "cell_type": "code",
      "source": [
        "# Gráfico da média de recência por cluster\n",
        "plt.subplot(1, 3, 3)\n",
        "sns.barplot(data=cluster_analysis, x='Cluster', y='Média Recência')\n",
        "plt.title('Média de Recência por Cluster')\n",
        "plt.xlabel('Cluster')\n",
        "plt.ylabel('Média Recência')\n",
        "plt.tight_layout()\n",
        "plt.show()"
      ],
      "metadata": {
        "colab": {
          "base_uri": "https://localhost:8080/",
          "height": 481
        },
        "id": "DdA6CDyER6dS",
        "outputId": "15471cce-e428-4025-e417-2addb6c36918"
      },
      "execution_count": null,
      "outputs": [
        {
          "output_type": "display_data",
          "data": {
            "text/plain": [
              "<Figure size 640x480 with 1 Axes>"
            ],
            "image/png": "[encoded data removed]"
          },
          "metadata": {}
        }
      ]
    },
    {
      "cell_type": "code",
      "source": [
        "print(df['CustomerID'].dtype)  # Tipo de dados no DataFrame df\n",
        "print(rfm['CustomerID'].dtype)  # Tipo de dados no DataFrame rfm"
      ],
      "metadata": {
        "colab": {
          "base_uri": "https://localhost:8080/"
        },
        "id": "bMD4f1MXRZCQ",
        "outputId": "21d2f865-fe3b-49a5-c7c7-909e3e964905"
      },
      "execution_count": null,
      "outputs": [
        {
          "output_type": "stream",
          "name": "stdout",
          "text": [
            "object\n",
            "int64\n"
          ]
        }
      ]
    },
    {
      "cell_type": "code",
      "source": [
        "# Verificando valores únicos para identificar o problema\n",
        "print(df['CustomerID'].unique())\n",
        "\n",
        "# Tratar valores nulos se existirem\n",
        "df['CustomerID'] = df['CustomerID'].fillna(0)  # Exemplo de preenchimento com 0"
      ],
      "metadata": {
        "colab": {
          "base_uri": "https://localhost:8080/"
        },
        "id": "7d5o03nPTF_5",
        "outputId": "2692c890-c47d-487a-f9c0-f679507be21d"
      },
      "execution_count": null,
      "outputs": [
        {
          "output_type": "stream",
          "name": "stdout",
          "text": [
            "['17850.0' '13047.0' '12583.0' ... '13298.0' '14569.0' '12713.0']\n"
          ]
        }
      ]
    },
    {
      "cell_type": "code",
      "source": [
        "# Converter 'CustomerID' para float e depois para int\n",
        "df['CustomerID'] = df['CustomerID'].astype(float)\n",
        "\n",
        "# Verificando os tipos de dados após a conversão\n",
        "print(df['CustomerID'].dtype)"
      ],
      "metadata": {
        "colab": {
          "base_uri": "https://localhost:8080/"
        },
        "id": "wv2CwVg6TOAh",
        "outputId": "c7acff66-b7d3-49d5-f946-1b32d2e98fb8"
      },
      "execution_count": null,
      "outputs": [
        {
          "output_type": "stream",
          "name": "stdout",
          "text": [
            "float64\n"
          ]
        }
      ]
    },
    {
      "cell_type": "code",
      "source": [
        "print(df['CustomerID'].dtype)  # Tipo de dados no DataFrame df\n",
        "print(rfm['CustomerID'].dtype)  # Tipo de dados no DataFrame rfm"
      ],
      "metadata": {
        "colab": {
          "base_uri": "https://localhost:8080/"
        },
        "id": "9R8t_8VTTXnw",
        "outputId": "be131558-c3c9-4b52-9c95-cb17bfa5e7fb"
      },
      "execution_count": null,
      "outputs": [
        {
          "output_type": "stream",
          "name": "stdout",
          "text": [
            "float64\n",
            "int64\n"
          ]
        }
      ]
    },
    {
      "cell_type": "markdown",
      "source": [
        "**Clientes que compram os mesmos produtos**"
      ],
      "metadata": {
        "id": "4vPjEUqVTouV"
      }
    },
    {
      "cell_type": "code",
      "source": [
        "#Mesclando o DataFrame de RFM com as transações para incluir as descrições dos produtos\n",
        "merged_data = df.merge(rfm[['CustomerID', 'Cluster']], on='CustomerID')\n",
        "\n",
        "# Agrupando dados pelo Cluster e pela descrição do produto\n",
        "product_frequency = merged_data.groupby(['Cluster', 'Description']).size().reset_index(name='Frequency')\n",
        "\n",
        "# Tabela de produtos mais populares em cada cluster\n",
        "popular_products = product_frequency.sort_values(by=['Cluster', 'Frequency'], ascending=[True, False])\n",
        "\n",
        "# Exibir os 10 produtos mais populares por cluster\n",
        "top_products_per_cluster = popular_products.groupby('Cluster').head(10)\n",
        "print(top_products_per_cluster)\n"
      ],
      "metadata": {
        "colab": {
          "base_uri": "https://localhost:8080/"
        },
        "id": "MoQFViwRTrg1",
        "outputId": "59606d11-831b-41f0-ca45-5944e8b7bc43"
      },
      "execution_count": null,
      "outputs": [
        {
          "output_type": "stream",
          "name": "stdout",
          "text": [
            "       Cluster                          Description  Frequency\n",
            "3089         0   WHITE HANGING HEART T-LIGHT HOLDER        256\n",
            "2285         0             REGENCY CAKESTAND 3 TIER        204\n",
            "183          0        ASSORTED COLOUR BIRD ORNAMENT        192\n",
            "1460         0              JUMBO BAG RED RETROSPOT        185\n",
            "2330         0         REX CASH+CARRY JUMBO SHOPPER        177\n",
            "1605         0              LUNCH BAG RED RETROSPOT        155\n",
            "1919         0      PAPER CHAIN KIT 50'S CHRISTMAS         143\n",
            "1879         0      PACK OF 72 RETROSPOT CAKE CASES        135\n",
            "1597         0              LUNCH BAG  BLACK SKULL.        133\n",
            "1609         0               LUNCH BAG SUKI DESIGN         129\n",
            "5334         1             REGENCY CAKESTAND 3 TIER        322\n",
            "4568         1              JUMBO BAG RED RETROSPOT        274\n",
            "6081         1   WHITE HANGING HEART T-LIGHT HOLDER        269\n",
            "5018         1                        PARTY BUNTING        220\n",
            "5520         1    SET OF 3 CAKE TINS PANTRY DESIGN         186\n",
            "3398         1        ASSORTED COLOUR BIRD ORNAMENT        171\n",
            "4707         1              LUNCH BAG RED RETROSPOT        162\n",
            "4566         1              JUMBO BAG PINK POLKADOT        159\n",
            "3357         1            ALARM CLOCK BAKELIKE RED         140\n",
            "3779         1                        CHILLI LIGHTS        139\n",
            "8236         2             REGENCY CAKESTAND 3 TIER        114\n",
            "7327         2                    GUMBALL COAT RACK         96\n",
            "8958         2   WHITE HANGING HEART T-LIGHT HOLDER         92\n",
            "7635         2              LUNCH BAG  BLACK SKULL.         89\n",
            "6667         2                             CARRIAGE         85\n",
            "6740         2                        CHILLI LIGHTS         84\n",
            "7507         2              JUMBO BAG RED RETROSPOT         81\n",
            "8971         2   WHITE SPOT RED CERAMIC DRAWER KNOB         73\n",
            "7638         2                  LUNCH BAG CARS BLUE         71\n",
            "7643         2              LUNCH BAG RED RETROSPOT         71\n",
            "9795         3              JUMBO BAG RED RETROSPOT         45\n",
            "10654        3   WHITE HANGING HEART T-LIGHT HOLDER         40\n",
            "10668        3    WOOD BLACK BOARD ANT WHITE FINISH         39\n",
            "10495        3                  SPACEBOY LUNCH BOX          38\n",
            "10238        3             REGENCY CAKESTAND 3 TIER         35\n",
            "9871         3              LUNCH BAG RED RETROSPOT         34\n",
            "9463         3                 DOLLY GIRL LUNCH BOX         32\n",
            "9779         3             JAM MAKING SET WITH JARS         31\n",
            "10291        3  ROUND SNACK BOXES SET OF4 WOODLAND          29\n",
            "10362        3           SET OF 3 REGENCY CAKE TINS         27\n",
            "14023        4   WHITE HANGING HEART T-LIGHT HOLDER        676\n",
            "12294        4              JUMBO BAG RED RETROSPOT        495\n",
            "13169        4             REGENCY CAKESTAND 3 TIER        487\n",
            "12441        4              LUNCH BAG RED RETROSPOT        451\n",
            "10941        4        ASSORTED COLOUR BIRD ORNAMENT        404\n",
            "13031        4                              POSTAGE        382\n",
            "12433        4              LUNCH BAG  BLACK SKULL.        377\n",
            "12798        4                        PARTY BUNTING        359\n",
            "13382        4    SET OF 3 CAKE TINS PANTRY DESIGN         345\n",
            "12436        4                  LUNCH BAG CARS BLUE        334\n"
          ]
        }
      ]
    },
    {
      "cell_type": "markdown",
      "source": [
        "**Clientes com a mesma frequência de compras**"
      ],
      "metadata": {
        "id": "_XpsH8eeU5KC"
      }
    },
    {
      "cell_type": "code",
      "source": [
        "# Calcular a frequência média de compras por cluster\n",
        "frequency_analysis = rfm.groupby('Cluster').agg({\n",
        "    'Frequency': 'mean',\n",
        "    'CustomerID': 'count'  # Contar o número de clientes em cada cluster\n",
        "}).reset_index()\n",
        "\n",
        "# Renomear colunas para clareza\n",
        "frequency_analysis.columns = ['Cluster', 'Média Frequência', 'Número de Clientes']\n",
        "\n",
        "# Exibir a análise de frequência\n",
        "print(frequency_analysis)"
      ],
      "metadata": {
        "colab": {
          "base_uri": "https://localhost:8080/"
        },
        "id": "u3UKz2bKU42l",
        "outputId": "a024378a-1555-4f62-8cfe-628e033e0dbb"
      },
      "execution_count": null,
      "outputs": [
        {
          "output_type": "stream",
          "name": "stdout",
          "text": [
            "   Cluster  Média Frequência  Número de Clientes\n",
            "0        0          1.241449                 497\n",
            "1        1          5.561983                 121\n",
            "2        2         23.875000                   8\n",
            "3        3          3.181818                  11\n",
            "4        4          1.550129                 778\n"
          ]
        }
      ]
    },
    {
      "cell_type": "markdown",
      "source": [
        "**Clientes que gastam mais em suas compras**"
      ],
      "metadata": {
        "id": "TCX5P2YaVB51"
      }
    },
    {
      "cell_type": "code",
      "source": [
        "# Calcular a média de gasto por cluster\n",
        "monetary_analysis = rfm.groupby('Cluster').agg({\n",
        "    'Monetary': 'mean',\n",
        "    'CustomerID': 'count'  # Contar o número de clientes em cada cluster\n",
        "}).reset_index()\n",
        "\n",
        "# Renomear colunas para clareza\n",
        "monetary_analysis.columns = ['Cluster', 'Média Gasto', 'Número de Clientes']\n",
        "\n",
        "# Exibir a análise de gasto\n",
        "print(monetary_analysis)"
      ],
      "metadata": {
        "colab": {
          "base_uri": "https://localhost:8080/"
        },
        "id": "7vOVMn-9VEaR",
        "outputId": "434ef11a-8f81-42eb-d790-3bee80a8576f"
      },
      "execution_count": null,
      "outputs": [
        {
          "output_type": "stream",
          "name": "stdout",
          "text": [
            "   Cluster  Média Gasto  Número de Clientes\n",
            "0        0   299.595556                 497\n",
            "1        1   411.885316                 121\n",
            "2        2   481.243980                   8\n",
            "3        3  5350.458519                  11\n",
            "4        4   369.540932                 778\n"
          ]
        }
      ]
    },
    {
      "cell_type": "markdown",
      "source": [
        "# **Etapa 05: Interpretação dos resultados obtidos**"
      ],
      "metadata": {
        "id": "AdPxhTdeUT7d"
      }
    },
    {
      "cell_type": "markdown",
      "source": [
        "# **a. Descrição do Perfil de Compras dos Clientes de Cada Cluster**"
      ],
      "metadata": {
        "id": "YcMjSpPqVFWF"
      }
    },
    {
      "cell_type": "markdown",
      "source": [
        "**Cluster 0:**\n",
        "\n",
        "Produtos Populares: Itens como o \"WHITE HANGING HEART T-LIGHT HOLDER\" e \"REGENCY CAKESTAND 3 TIER\" são os mais comprados.\n",
        "\n",
        "Frequência Média: Aproximadamente 1,24 compras por cliente.\n",
        "\n",
        "Gasto Médio: Em média, os clientes gastam 299,60 por transação.\n",
        "\n",
        "Número de Clientes: 497 clientes.\n",
        "\n",
        "Perfil: Clientes com compras esporádicas de itens decorativos e de uso diário."
      ],
      "metadata": {
        "id": "sE3hUfReVHHc"
      }
    },
    {
      "cell_type": "markdown",
      "source": [
        "**Cluster 1:**\n",
        "\n",
        "Produtos Populares: \"REGENCY CAKESTAND 3 TIER\" e \"JUMBO BAG RED RETROSPOT\" são os mais populares.\n",
        "\n",
        "Frequência Média: Aproximadamente 5,56 compras por cliente.\n",
        "\n",
        "Gasto Médio: Média de 411,89 por transação.\n",
        "\n",
        "Número de Clientes: 121 clientes.\n",
        "\n",
        "Perfil: Clientes um pouco mais engajados, com uma frequência de compras mais alta, sugerindo interesse por itens de festa e decoração."
      ],
      "metadata": {
        "id": "ceLj75fuVYA4"
      }
    },
    {
      "cell_type": "markdown",
      "source": [
        "**Cluster 2:**\n",
        "\n",
        "Produtos Populares: Produtos como \"REGENCY CAKESTAND 3 TIER\" e \"GUMBALL COAT RACK\".\n",
        "\n",
        "Frequência Média: 23,88 compras por cliente (muito alta).\n",
        "\n",
        "Gasto Médio: Média de 481,24 por transação.\n",
        "\n",
        "Número de Clientes: Apenas 8 clientes.\n",
        "\n",
        "Perfil: Clientes altamente engajados que compram frequentemente, possivelmente revendedores ou entusiastas de produtos."
      ],
      "metadata": {
        "id": "vk36HdbyVfwa"
      }
    },
    {
      "cell_type": "markdown",
      "source": [
        "**Cluster 3:**\n",
        "\n",
        "Produtos Populares: \"WHITE HANGING HEART T-LIGHT HOLDER\" e \"REGENCY CAKESTAND 3 TIER\".\n",
        "\n",
        "Frequência Média: Aproximadamente 3,18 compras por cliente.\n",
        "\n",
        "Gasto Médio: Em média, 5.350,46 (o que é significativamente mais alto).\n",
        "\n",
        "Número de Clientes: 11 clientes.\n",
        "\n",
        "Perfil: Clientes que fazem compras substanciais e são mais seletivos nas suas compras."
      ],
      "metadata": {
        "id": "r9ppuTGQVnho"
      }
    },
    {
      "cell_type": "markdown",
      "source": [
        "**Cluster 4:**\n",
        "\n",
        "Produtos Populares: \"WHITE HANGING HEART T-LIGHT HOLDER\" e \"JUMBO BAG RED RETROSPOT\".\n",
        "\n",
        "Frequência Média: Aproximadamente 1,55 compras por cliente.\n",
        "\n",
        "Gasto Médio: Média de 369,54 por transação.\n",
        "\n",
        "Número de Clientes: 778 clientes.\n",
        "\n",
        "Perfil: Clientes com comportamento de compra mais padrão, mostrando interesse por produtos variados, mas sem uma frequência muito alta."
      ],
      "metadata": {
        "id": "E2F0GVpLV9HV"
      }
    },
    {
      "cell_type": "markdown",
      "source": [
        "# **b. Justificativa da Análise para Segmentação e Personalização**\n",
        "\n",
        "\n",
        "**Segmentação:** Identificar diferentes grupos de clientes com base em suas características de compra. Isso permite que a empresa entenda melhor os hábitos de compra de cada segmento.\n",
        "\n",
        "**Personalização de Campanhas:** Compreender as preferências dos clientes em cada cluster pode ajudar na criação de campanhas de marketing personalizadas. Por exemplo, o Cluster 2 pode ser alvo de campanhas focadas em produtos de alta rotatividade e promoções, enquanto o Cluster 3 pode receber ofertas exclusivas para produtos de alto valor.\n",
        "\n",
        "**Alocação Eficiente de Recursos:** A segmentação permite que a empresa direcione seus esforços de marketing e promoções de maneira mais eficiente, investindo mais em segmentos que trazem maior retorno."
      ],
      "metadata": {
        "id": "g83TEwKoWOM7"
      }
    },
    {
      "cell_type": "markdown",
      "source": [
        "# **c. Sugestões de Ações Possíveis**\n",
        "\n",
        "**1) Campanhas Personalizadas:**\n",
        "\n",
        "Para o Cluster 2, desenvolver campanhas de fidelidade ou promoções para aumentar a retenção, dado seu alto engajamento e gasto.\n",
        "\n",
        "Para o Cluster 3, oferecer descontos ou benefícios exclusivos, dada a sua alta média de gasto, para encorajar mais compras.\n",
        "\n",
        "**2) Promoções Temáticas:**\n",
        "\n",
        "Criar promoções sazonais focadas em itens populares, como decorações para festas ou itens para ocasiões especiais, com base nos produtos mais comprados.\n",
        "\n",
        "**3) Cross-Selling e Upselling:**\n",
        "\n",
        "Oferecer produtos complementares ou versões premium dos produtos que são populares em cada cluster, incentivando clientes a aumentar o valor de suas compras.\n",
        "\n",
        "**4) Feedback e Engajamento:**\n",
        "\n",
        "Para clusters com baixa frequência de compras, realizar pesquisas para entender os motivos por trás da infrequência e ajustar as estratégias de marketing.\n",
        "\n",
        "**5) Análise Contínua:**\n",
        "\n",
        "Continuar monitorando o comportamento de compra e a eficácia das campanhas para ajustar a segmentação e personalização ao longo do tempo."
      ],
      "metadata": {
        "id": "O1Ju6dkHWU1J"
      }
    }
  ]
}